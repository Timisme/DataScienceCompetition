{
  "nbformat": 4,
  "nbformat_minor": 0,
  "metadata": {
    "colab": {
      "name": "Instacart.ipynb",
      "provenance": [],
      "collapsed_sections": [],
      "toc_visible": true
    },
    "kernelspec": {
      "name": "python3",
      "display_name": "Python 3"
    },
    "language_info": {
      "name": "python"
    },
    "accelerator": "GPU"
  },
  "cells": [
    {
      "cell_type": "code",
      "metadata": {
        "id": "kl7F0OCGLSLW"
      },
      "source": [
        "import numpy as np \n",
        "import pandas as pd \n",
        "import torch\n",
        "import torch.nn as nn\n",
        "from torch.utils.data import Dataset, DataLoader\n",
        "from sklearn.preprocessing import OneHotEncoder\n",
        "from sklearn.model_selection import KFold \n",
        "from tqdm import tqdm"
      ],
      "execution_count": 44,
      "outputs": []
    },
    {
      "cell_type": "code",
      "metadata": {
        "id": "XmBFbbta4lXQ"
      },
      "source": [
        "device= 'cuda' if torch.cuda.is_available() else 'cpu'"
      ],
      "execution_count": 2,
      "outputs": []
    },
    {
      "cell_type": "code",
      "metadata": {
        "id": "5afIBPL70-D9"
      },
      "source": [
        "folder_path = '/content/drive/MyDrive/python_data/kaggle/instacart/data/'\n",
        "files = ['aisles.csv', 'departments.csv', 'order_products__prior.csv', 'order_products__train.csv', 'orders.csv', 'products.csv']"
      ],
      "execution_count": 3,
      "outputs": []
    },
    {
      "cell_type": "code",
      "metadata": {
        "id": "3KkkXm-c0__R"
      },
      "source": [
        "# aisle = pd.read_csv(folder_path+files[0])\n",
        "# dep = pd.read_csv(folder_path+files[1])\n",
        "prior = pd.read_csv(folder_path+files[2])\n",
        "train = pd.read_csv(folder_path+files[3])\n",
        "orders = pd.read_csv(folder_path+files[4])\n",
        "products = pd.read_csv(folder_path+files[5])\n",
        "test = orders[orders['eval_set'] == 'test']"
      ],
      "execution_count": 4,
      "outputs": []
    },
    {
      "cell_type": "code",
      "metadata": {
        "colab": {
          "base_uri": "https://localhost:8080/",
          "height": 128
        },
        "id": "E2mADG9Z1ri8",
        "outputId": "7a9f8f0f-65c3-46e2-f477-182d47b7679d"
      },
      "source": [
        "print(len(products))\n",
        "products.head(2)"
      ],
      "execution_count": 5,
      "outputs": [
        {
          "output_type": "stream",
          "text": [
            "49688\n"
          ],
          "name": "stdout"
        },
        {
          "output_type": "execute_result",
          "data": {
            "text/html": [
              "<div>\n",
              "<style scoped>\n",
              "    .dataframe tbody tr th:only-of-type {\n",
              "        vertical-align: middle;\n",
              "    }\n",
              "\n",
              "    .dataframe tbody tr th {\n",
              "        vertical-align: top;\n",
              "    }\n",
              "\n",
              "    .dataframe thead th {\n",
              "        text-align: right;\n",
              "    }\n",
              "</style>\n",
              "<table border=\"1\" class=\"dataframe\">\n",
              "  <thead>\n",
              "    <tr style=\"text-align: right;\">\n",
              "      <th></th>\n",
              "      <th>product_id</th>\n",
              "      <th>product_name</th>\n",
              "      <th>aisle_id</th>\n",
              "      <th>department_id</th>\n",
              "    </tr>\n",
              "  </thead>\n",
              "  <tbody>\n",
              "    <tr>\n",
              "      <th>0</th>\n",
              "      <td>1</td>\n",
              "      <td>Chocolate Sandwich Cookies</td>\n",
              "      <td>61</td>\n",
              "      <td>19</td>\n",
              "    </tr>\n",
              "    <tr>\n",
              "      <th>1</th>\n",
              "      <td>2</td>\n",
              "      <td>All-Seasons Salt</td>\n",
              "      <td>104</td>\n",
              "      <td>13</td>\n",
              "    </tr>\n",
              "  </tbody>\n",
              "</table>\n",
              "</div>"
            ],
            "text/plain": [
              "   product_id                product_name  aisle_id  department_id\n",
              "0           1  Chocolate Sandwich Cookies        61             19\n",
              "1           2            All-Seasons Salt       104             13"
            ]
          },
          "metadata": {
            "tags": []
          },
          "execution_count": 5
        }
      ]
    },
    {
      "cell_type": "code",
      "metadata": {
        "colab": {
          "base_uri": "https://localhost:8080/",
          "height": 110
        },
        "id": "6SgK4E2K3bsz",
        "outputId": "7d7b07cb-92da-4c7e-9015-931c09a3bead"
      },
      "source": [
        "orders.head(2)"
      ],
      "execution_count": 6,
      "outputs": [
        {
          "output_type": "execute_result",
          "data": {
            "text/html": [
              "<div>\n",
              "<style scoped>\n",
              "    .dataframe tbody tr th:only-of-type {\n",
              "        vertical-align: middle;\n",
              "    }\n",
              "\n",
              "    .dataframe tbody tr th {\n",
              "        vertical-align: top;\n",
              "    }\n",
              "\n",
              "    .dataframe thead th {\n",
              "        text-align: right;\n",
              "    }\n",
              "</style>\n",
              "<table border=\"1\" class=\"dataframe\">\n",
              "  <thead>\n",
              "    <tr style=\"text-align: right;\">\n",
              "      <th></th>\n",
              "      <th>order_id</th>\n",
              "      <th>user_id</th>\n",
              "      <th>eval_set</th>\n",
              "      <th>order_number</th>\n",
              "      <th>order_dow</th>\n",
              "      <th>order_hour_of_day</th>\n",
              "      <th>days_since_prior_order</th>\n",
              "    </tr>\n",
              "  </thead>\n",
              "  <tbody>\n",
              "    <tr>\n",
              "      <th>0</th>\n",
              "      <td>2539329</td>\n",
              "      <td>1</td>\n",
              "      <td>prior</td>\n",
              "      <td>1</td>\n",
              "      <td>2</td>\n",
              "      <td>8</td>\n",
              "      <td>NaN</td>\n",
              "    </tr>\n",
              "    <tr>\n",
              "      <th>1</th>\n",
              "      <td>2398795</td>\n",
              "      <td>1</td>\n",
              "      <td>prior</td>\n",
              "      <td>2</td>\n",
              "      <td>3</td>\n",
              "      <td>7</td>\n",
              "      <td>15.0</td>\n",
              "    </tr>\n",
              "  </tbody>\n",
              "</table>\n",
              "</div>"
            ],
            "text/plain": [
              "   order_id  user_id  ... order_hour_of_day  days_since_prior_order\n",
              "0   2539329        1  ...                 8                     NaN\n",
              "1   2398795        1  ...                 7                    15.0\n",
              "\n",
              "[2 rows x 7 columns]"
            ]
          },
          "metadata": {
            "tags": []
          },
          "execution_count": 6
        }
      ]
    },
    {
      "cell_type": "code",
      "metadata": {
        "colab": {
          "base_uri": "https://localhost:8080/",
          "height": 110
        },
        "id": "xSee2qSrE9SF",
        "outputId": "1a7e7978-4e77-4e45-deeb-62ac86df48d4"
      },
      "source": [
        "prior.head(2)"
      ],
      "execution_count": 7,
      "outputs": [
        {
          "output_type": "execute_result",
          "data": {
            "text/html": [
              "<div>\n",
              "<style scoped>\n",
              "    .dataframe tbody tr th:only-of-type {\n",
              "        vertical-align: middle;\n",
              "    }\n",
              "\n",
              "    .dataframe tbody tr th {\n",
              "        vertical-align: top;\n",
              "    }\n",
              "\n",
              "    .dataframe thead th {\n",
              "        text-align: right;\n",
              "    }\n",
              "</style>\n",
              "<table border=\"1\" class=\"dataframe\">\n",
              "  <thead>\n",
              "    <tr style=\"text-align: right;\">\n",
              "      <th></th>\n",
              "      <th>order_id</th>\n",
              "      <th>product_id</th>\n",
              "      <th>add_to_cart_order</th>\n",
              "      <th>reordered</th>\n",
              "    </tr>\n",
              "  </thead>\n",
              "  <tbody>\n",
              "    <tr>\n",
              "      <th>0</th>\n",
              "      <td>2</td>\n",
              "      <td>33120</td>\n",
              "      <td>1</td>\n",
              "      <td>1</td>\n",
              "    </tr>\n",
              "    <tr>\n",
              "      <th>1</th>\n",
              "      <td>2</td>\n",
              "      <td>28985</td>\n",
              "      <td>2</td>\n",
              "      <td>1</td>\n",
              "    </tr>\n",
              "  </tbody>\n",
              "</table>\n",
              "</div>"
            ],
            "text/plain": [
              "   order_id  product_id  add_to_cart_order  reordered\n",
              "0         2       33120                  1          1\n",
              "1         2       28985                  2          1"
            ]
          },
          "metadata": {
            "tags": []
          },
          "execution_count": 7
        }
      ]
    },
    {
      "cell_type": "code",
      "metadata": {
        "colab": {
          "base_uri": "https://localhost:8080/",
          "height": 128
        },
        "id": "B2ZlZM_br5hH",
        "outputId": "c89fac6d-1afe-484b-8501-3645f9b8c307"
      },
      "source": [
        "print(len(train))\n",
        "train.head(2)"
      ],
      "execution_count": 8,
      "outputs": [
        {
          "output_type": "stream",
          "text": [
            "1384617\n"
          ],
          "name": "stdout"
        },
        {
          "output_type": "execute_result",
          "data": {
            "text/html": [
              "<div>\n",
              "<style scoped>\n",
              "    .dataframe tbody tr th:only-of-type {\n",
              "        vertical-align: middle;\n",
              "    }\n",
              "\n",
              "    .dataframe tbody tr th {\n",
              "        vertical-align: top;\n",
              "    }\n",
              "\n",
              "    .dataframe thead th {\n",
              "        text-align: right;\n",
              "    }\n",
              "</style>\n",
              "<table border=\"1\" class=\"dataframe\">\n",
              "  <thead>\n",
              "    <tr style=\"text-align: right;\">\n",
              "      <th></th>\n",
              "      <th>order_id</th>\n",
              "      <th>product_id</th>\n",
              "      <th>add_to_cart_order</th>\n",
              "      <th>reordered</th>\n",
              "    </tr>\n",
              "  </thead>\n",
              "  <tbody>\n",
              "    <tr>\n",
              "      <th>0</th>\n",
              "      <td>1</td>\n",
              "      <td>49302</td>\n",
              "      <td>1</td>\n",
              "      <td>1</td>\n",
              "    </tr>\n",
              "    <tr>\n",
              "      <th>1</th>\n",
              "      <td>1</td>\n",
              "      <td>11109</td>\n",
              "      <td>2</td>\n",
              "      <td>1</td>\n",
              "    </tr>\n",
              "  </tbody>\n",
              "</table>\n",
              "</div>"
            ],
            "text/plain": [
              "   order_id  product_id  add_to_cart_order  reordered\n",
              "0         1       49302                  1          1\n",
              "1         1       11109                  2          1"
            ]
          },
          "metadata": {
            "tags": []
          },
          "execution_count": 8
        }
      ]
    },
    {
      "cell_type": "code",
      "metadata": {
        "colab": {
          "base_uri": "https://localhost:8080/"
        },
        "id": "F2GtewegNZGw",
        "outputId": "31bcca32-81ce-403c-caf7-a6f252c05a58"
      },
      "source": [
        "'''train和test資料的user_id不重複'''\n",
        "\n",
        "len(set(orders[orders['eval_set']=='train']['user_id']).intersection(set(orders[orders['eval_set']=='test']['user_id'])))"
      ],
      "execution_count": 9,
      "outputs": [
        {
          "output_type": "execute_result",
          "data": {
            "text/plain": [
              "0"
            ]
          },
          "metadata": {
            "tags": []
          },
          "execution_count": 9
        }
      ]
    },
    {
      "cell_type": "markdown",
      "metadata": {
        "id": "gekO9UW8X2HV"
      },
      "source": [
        "# Preprocessing\n",
        "* 將prior資訊 agg: df.groupby('A').agg({'B': ['min', 'max'], 'C': 'sum'})"
      ]
    },
    {
      "cell_type": "markdown",
      "metadata": {
        "id": "CG_P3wlGLpPo"
      },
      "source": [
        "## Hour2cat"
      ]
    },
    {
      "cell_type": "code",
      "metadata": {
        "id": "4NZW635iKn4R"
      },
      "source": [
        "def hour2cat(x):\n",
        "  if (x>=6) & (x<= 12): #早上\n",
        "    y= 0\n",
        "  elif (x>12) & (x< 18): #下午\n",
        "    y= 1\n",
        "  else:\n",
        "    y= 2 #晚上\n",
        "  return y"
      ],
      "execution_count": 10,
      "outputs": []
    },
    {
      "cell_type": "code",
      "metadata": {
        "id": "SxMo7Tb3J0UP"
      },
      "source": [
        "orders['order_hour_of_day'] = orders['order_hour_of_day'].apply(lambda x: hour2cat(x))"
      ],
      "execution_count": 11,
      "outputs": []
    },
    {
      "cell_type": "markdown",
      "metadata": {
        "id": "6im6cK_ubCVw"
      },
      "source": [
        "## Merging "
      ]
    },
    {
      "cell_type": "code",
      "metadata": {
        "id": "ycVLsm20X31I"
      },
      "source": [
        "train_order = orders[orders['eval_set']=='train'].drop(columns= ['eval_set'], axis= 1)\n",
        "prior_order = orders[orders['eval_set']=='prior'].drop(columns= ['eval_set'], axis= 1)\n",
        "train_order.columns = ['train_'+col for col in train_order.columns]\n",
        "prior_order.columns = ['prior_'+col for col in prior_order.columns]"
      ],
      "execution_count": 12,
      "outputs": []
    },
    {
      "cell_type": "code",
      "metadata": {
        "colab": {
          "base_uri": "https://localhost:8080/",
          "height": 130
        },
        "id": "iRSbBDwlnawm",
        "outputId": "50efdcf1-0b3e-4869-8edd-da418ae668e4"
      },
      "source": [
        "train_prior = pd.merge(train_order, prior_order, left_on= 'train_user_id', right_on='prior_user_id')\n",
        "train_prior.head(2)"
      ],
      "execution_count": 13,
      "outputs": [
        {
          "output_type": "execute_result",
          "data": {
            "text/html": [
              "<div>\n",
              "<style scoped>\n",
              "    .dataframe tbody tr th:only-of-type {\n",
              "        vertical-align: middle;\n",
              "    }\n",
              "\n",
              "    .dataframe tbody tr th {\n",
              "        vertical-align: top;\n",
              "    }\n",
              "\n",
              "    .dataframe thead th {\n",
              "        text-align: right;\n",
              "    }\n",
              "</style>\n",
              "<table border=\"1\" class=\"dataframe\">\n",
              "  <thead>\n",
              "    <tr style=\"text-align: right;\">\n",
              "      <th></th>\n",
              "      <th>train_order_id</th>\n",
              "      <th>train_user_id</th>\n",
              "      <th>train_order_number</th>\n",
              "      <th>train_order_dow</th>\n",
              "      <th>train_order_hour_of_day</th>\n",
              "      <th>train_days_since_prior_order</th>\n",
              "      <th>prior_order_id</th>\n",
              "      <th>prior_user_id</th>\n",
              "      <th>prior_order_number</th>\n",
              "      <th>prior_order_dow</th>\n",
              "      <th>prior_order_hour_of_day</th>\n",
              "      <th>prior_days_since_prior_order</th>\n",
              "    </tr>\n",
              "  </thead>\n",
              "  <tbody>\n",
              "    <tr>\n",
              "      <th>0</th>\n",
              "      <td>1187899</td>\n",
              "      <td>1</td>\n",
              "      <td>11</td>\n",
              "      <td>4</td>\n",
              "      <td>0</td>\n",
              "      <td>14.0</td>\n",
              "      <td>2539329</td>\n",
              "      <td>1</td>\n",
              "      <td>1</td>\n",
              "      <td>2</td>\n",
              "      <td>0</td>\n",
              "      <td>NaN</td>\n",
              "    </tr>\n",
              "    <tr>\n",
              "      <th>1</th>\n",
              "      <td>1187899</td>\n",
              "      <td>1</td>\n",
              "      <td>11</td>\n",
              "      <td>4</td>\n",
              "      <td>0</td>\n",
              "      <td>14.0</td>\n",
              "      <td>2398795</td>\n",
              "      <td>1</td>\n",
              "      <td>2</td>\n",
              "      <td>3</td>\n",
              "      <td>0</td>\n",
              "      <td>15.0</td>\n",
              "    </tr>\n",
              "  </tbody>\n",
              "</table>\n",
              "</div>"
            ],
            "text/plain": [
              "   train_order_id  ...  prior_days_since_prior_order\n",
              "0         1187899  ...                           NaN\n",
              "1         1187899  ...                          15.0\n",
              "\n",
              "[2 rows x 12 columns]"
            ]
          },
          "metadata": {
            "tags": []
          },
          "execution_count": 13
        }
      ]
    },
    {
      "cell_type": "code",
      "metadata": {
        "id": "ujrQFD5bp_1a"
      },
      "source": [
        "train_X = pd.merge(train_prior, prior, left_on= 'prior_order_id', right_on= 'order_id')\n",
        "train_X = pd.merge(train_X, products, left_on= 'product_id', right_on= 'product_id')"
      ],
      "execution_count": 14,
      "outputs": []
    },
    {
      "cell_type": "markdown",
      "metadata": {
        "id": "4zYwO50uWe1s"
      },
      "source": [
        "## 觀察\n",
        "* 對於同個train order id且相同product，可能會有許多不同prior order id的訊息，即相同的商品可能買過很多次，要如何組成一組feature？\n",
        "* 平均每個product的prior order數: 2.44\n",
        "* 最大每個product的prior order數: 99"
      ]
    },
    {
      "cell_type": "code",
      "metadata": {
        "colab": {
          "base_uri": "https://localhost:8080/",
          "height": 179
        },
        "id": "-AyJ9J0ms4oU",
        "outputId": "2225dc23-281b-4221-cf49-05f3d6c86e38"
      },
      "source": [
        "print(len(train_X))\n",
        "train_X.head(3)"
      ],
      "execution_count": 15,
      "outputs": [
        {
          "output_type": "stream",
          "text": [
            "20641991\n"
          ],
          "name": "stdout"
        },
        {
          "output_type": "execute_result",
          "data": {
            "text/html": [
              "<div>\n",
              "<style scoped>\n",
              "    .dataframe tbody tr th:only-of-type {\n",
              "        vertical-align: middle;\n",
              "    }\n",
              "\n",
              "    .dataframe tbody tr th {\n",
              "        vertical-align: top;\n",
              "    }\n",
              "\n",
              "    .dataframe thead th {\n",
              "        text-align: right;\n",
              "    }\n",
              "</style>\n",
              "<table border=\"1\" class=\"dataframe\">\n",
              "  <thead>\n",
              "    <tr style=\"text-align: right;\">\n",
              "      <th></th>\n",
              "      <th>train_order_id</th>\n",
              "      <th>train_user_id</th>\n",
              "      <th>train_order_number</th>\n",
              "      <th>train_order_dow</th>\n",
              "      <th>train_order_hour_of_day</th>\n",
              "      <th>train_days_since_prior_order</th>\n",
              "      <th>prior_order_id</th>\n",
              "      <th>prior_user_id</th>\n",
              "      <th>prior_order_number</th>\n",
              "      <th>prior_order_dow</th>\n",
              "      <th>prior_order_hour_of_day</th>\n",
              "      <th>prior_days_since_prior_order</th>\n",
              "      <th>order_id</th>\n",
              "      <th>product_id</th>\n",
              "      <th>add_to_cart_order</th>\n",
              "      <th>reordered</th>\n",
              "      <th>product_name</th>\n",
              "      <th>aisle_id</th>\n",
              "      <th>department_id</th>\n",
              "    </tr>\n",
              "  </thead>\n",
              "  <tbody>\n",
              "    <tr>\n",
              "      <th>0</th>\n",
              "      <td>1187899</td>\n",
              "      <td>1</td>\n",
              "      <td>11</td>\n",
              "      <td>4</td>\n",
              "      <td>0</td>\n",
              "      <td>14.0</td>\n",
              "      <td>2539329</td>\n",
              "      <td>1</td>\n",
              "      <td>1</td>\n",
              "      <td>2</td>\n",
              "      <td>0</td>\n",
              "      <td>NaN</td>\n",
              "      <td>2539329</td>\n",
              "      <td>196</td>\n",
              "      <td>1</td>\n",
              "      <td>0</td>\n",
              "      <td>Soda</td>\n",
              "      <td>77</td>\n",
              "      <td>7</td>\n",
              "    </tr>\n",
              "    <tr>\n",
              "      <th>1</th>\n",
              "      <td>1187899</td>\n",
              "      <td>1</td>\n",
              "      <td>11</td>\n",
              "      <td>4</td>\n",
              "      <td>0</td>\n",
              "      <td>14.0</td>\n",
              "      <td>2398795</td>\n",
              "      <td>1</td>\n",
              "      <td>2</td>\n",
              "      <td>3</td>\n",
              "      <td>0</td>\n",
              "      <td>15.0</td>\n",
              "      <td>2398795</td>\n",
              "      <td>196</td>\n",
              "      <td>1</td>\n",
              "      <td>1</td>\n",
              "      <td>Soda</td>\n",
              "      <td>77</td>\n",
              "      <td>7</td>\n",
              "    </tr>\n",
              "    <tr>\n",
              "      <th>2</th>\n",
              "      <td>1187899</td>\n",
              "      <td>1</td>\n",
              "      <td>11</td>\n",
              "      <td>4</td>\n",
              "      <td>0</td>\n",
              "      <td>14.0</td>\n",
              "      <td>473747</td>\n",
              "      <td>1</td>\n",
              "      <td>3</td>\n",
              "      <td>3</td>\n",
              "      <td>0</td>\n",
              "      <td>21.0</td>\n",
              "      <td>473747</td>\n",
              "      <td>196</td>\n",
              "      <td>1</td>\n",
              "      <td>1</td>\n",
              "      <td>Soda</td>\n",
              "      <td>77</td>\n",
              "      <td>7</td>\n",
              "    </tr>\n",
              "  </tbody>\n",
              "</table>\n",
              "</div>"
            ],
            "text/plain": [
              "   train_order_id  train_user_id  ...  aisle_id  department_id\n",
              "0         1187899              1  ...        77              7\n",
              "1         1187899              1  ...        77              7\n",
              "2         1187899              1  ...        77              7\n",
              "\n",
              "[3 rows x 19 columns]"
            ]
          },
          "metadata": {
            "tags": []
          },
          "execution_count": 15
        }
      ]
    },
    {
      "cell_type": "code",
      "metadata": {
        "colab": {
          "base_uri": "https://localhost:8080/"
        },
        "id": "smApAz4dcJpQ",
        "outputId": "6dfde22b-64d2-4272-917b-a9688d43868e"
      },
      "source": [
        "avg_n_prior_order = np.mean(train_X.groupby(['train_order_id', 'product_id'])['prior_order_id'].count())\n",
        "max_n_prior_order = np.max(train_X.groupby(['train_order_id', 'product_id'])['prior_order_id'].count())\n",
        "print(f'平均每個product的prior order數: {round(avg_n_prior_order, 2)}')\n",
        "print(f'最大每個product的prior order數: {round(max_n_prior_order, 2)}')"
      ],
      "execution_count": 16,
      "outputs": [
        {
          "output_type": "stream",
          "text": [
            "平均每個product的prior order數: 2.44\n",
            "最大每個product的prior order數: 99\n"
          ],
          "name": "stdout"
        }
      ]
    },
    {
      "cell_type": "code",
      "metadata": {
        "id": "ty2YMBgRhTZg"
      },
      "source": [
        "cols = ['train_order_id', 'train_user_id', 'train_order_dow', 'train_order_hour_of_day', 'train_days_since_prior_order', 'product_id', 'aisle_id', 'department_id']\n",
        "# train_X.groupby(cols).agg({'prior_order_dow':lambda x: x.mode()[0], 'order_id':'count'})\n",
        "grouped_train_X = train_X.groupby(cols).agg({'prior_order_id':'count'}).add_suffix('_Count').reset_index()\n",
        "# train_X.groupby(cols).count().reset_index()"
      ],
      "execution_count": 17,
      "outputs": []
    },
    {
      "cell_type": "code",
      "metadata": {
        "colab": {
          "base_uri": "https://localhost:8080/",
          "height": 179
        },
        "id": "agYZzw0orkY7",
        "outputId": "e0bacdf3-d9dd-4d82-9fde-67a29bc77e7d"
      },
      "source": [
        "print(len(grouped_train_X))\n",
        "grouped_train_X.head(3)"
      ],
      "execution_count": 18,
      "outputs": [
        {
          "output_type": "stream",
          "text": [
            "8474661\n"
          ],
          "name": "stdout"
        },
        {
          "output_type": "execute_result",
          "data": {
            "text/html": [
              "<div>\n",
              "<style scoped>\n",
              "    .dataframe tbody tr th:only-of-type {\n",
              "        vertical-align: middle;\n",
              "    }\n",
              "\n",
              "    .dataframe tbody tr th {\n",
              "        vertical-align: top;\n",
              "    }\n",
              "\n",
              "    .dataframe thead th {\n",
              "        text-align: right;\n",
              "    }\n",
              "</style>\n",
              "<table border=\"1\" class=\"dataframe\">\n",
              "  <thead>\n",
              "    <tr style=\"text-align: right;\">\n",
              "      <th></th>\n",
              "      <th>train_order_id</th>\n",
              "      <th>train_user_id</th>\n",
              "      <th>train_order_dow</th>\n",
              "      <th>train_order_hour_of_day</th>\n",
              "      <th>train_days_since_prior_order</th>\n",
              "      <th>product_id</th>\n",
              "      <th>aisle_id</th>\n",
              "      <th>department_id</th>\n",
              "      <th>prior_order_id_Count</th>\n",
              "    </tr>\n",
              "  </thead>\n",
              "  <tbody>\n",
              "    <tr>\n",
              "      <th>0</th>\n",
              "      <td>1</td>\n",
              "      <td>112108</td>\n",
              "      <td>4</td>\n",
              "      <td>0</td>\n",
              "      <td>9.0</td>\n",
              "      <td>2067</td>\n",
              "      <td>3</td>\n",
              "      <td>19</td>\n",
              "      <td>1</td>\n",
              "    </tr>\n",
              "    <tr>\n",
              "      <th>1</th>\n",
              "      <td>1</td>\n",
              "      <td>112108</td>\n",
              "      <td>4</td>\n",
              "      <td>0</td>\n",
              "      <td>9.0</td>\n",
              "      <td>5707</td>\n",
              "      <td>3</td>\n",
              "      <td>19</td>\n",
              "      <td>2</td>\n",
              "    </tr>\n",
              "    <tr>\n",
              "      <th>2</th>\n",
              "      <td>1</td>\n",
              "      <td>112108</td>\n",
              "      <td>4</td>\n",
              "      <td>0</td>\n",
              "      <td>9.0</td>\n",
              "      <td>11109</td>\n",
              "      <td>108</td>\n",
              "      <td>16</td>\n",
              "      <td>2</td>\n",
              "    </tr>\n",
              "  </tbody>\n",
              "</table>\n",
              "</div>"
            ],
            "text/plain": [
              "   train_order_id  train_user_id  ...  department_id  prior_order_id_Count\n",
              "0               1         112108  ...             19                     1\n",
              "1               1         112108  ...             19                     2\n",
              "2               1         112108  ...             16                     2\n",
              "\n",
              "[3 rows x 9 columns]"
            ]
          },
          "metadata": {
            "tags": []
          },
          "execution_count": 18
        }
      ]
    },
    {
      "cell_type": "markdown",
      "metadata": {
        "id": "HpfcskDAa5gE"
      },
      "source": [
        "## 產生Y \n",
        "* by merging grouped X and train data\n",
        "* 有reordered(y=1)僅占10%"
      ]
    },
    {
      "cell_type": "code",
      "metadata": {
        "id": "aEtDOxZKSEbt"
      },
      "source": [
        "# train_array= np.array(train[['order_id', 'product_id']])\n",
        "# grouped_train_array= np.array(grouped_train_X[['train_order_id', 'product_id']])"
      ],
      "execution_count": 19,
      "outputs": []
    },
    {
      "cell_type": "code",
      "metadata": {
        "id": "fTH8qJYlxjIj"
      },
      "source": [
        "full_X = pd.merge(grouped_train_X, train.rename(columns={'reordered':'label'}), how= 'left', left_on=['train_order_id','product_id'], right_on= ['order_id', 'product_id'])"
      ],
      "execution_count": 20,
      "outputs": []
    },
    {
      "cell_type": "code",
      "metadata": {
        "id": "_dDbe563ySIS"
      },
      "source": [
        "drop_cols= ['train_user_id', 'train_order_id', 'order_id', 'add_to_cart_order']\n",
        "train_X = full_X.drop(columns=drop_cols, axis= 1).fillna(0).iloc[:, :-1]\n",
        "train_y = full_X.drop(columns=drop_cols, axis= 1).fillna(0).iloc[:, -1]"
      ],
      "execution_count": 21,
      "outputs": []
    },
    {
      "cell_type": "code",
      "metadata": {
        "colab": {
          "base_uri": "https://localhost:8080/"
        },
        "id": "eP1bTyeLzqR4",
        "outputId": "f6851de5-a7ff-4516-c1d6-51a076a06985"
      },
      "source": [
        "train_y.value_counts()*100/len(train_y)"
      ],
      "execution_count": 22,
      "outputs": [
        {
          "output_type": "execute_result",
          "data": {
            "text/plain": [
              "0.0    90.219975\n",
              "1.0     9.780025\n",
              "Name: label, dtype: float64"
            ]
          },
          "metadata": {
            "tags": []
          },
          "execution_count": 22
        }
      ]
    },
    {
      "cell_type": "code",
      "metadata": {
        "colab": {
          "base_uri": "https://localhost:8080/",
          "height": 142
        },
        "id": "XMZsX1IS0XLw",
        "outputId": "03f9eb0f-4913-4e7b-d616-f0ef82d01db0"
      },
      "source": [
        "train_X.head(3)"
      ],
      "execution_count": 23,
      "outputs": [
        {
          "output_type": "execute_result",
          "data": {
            "text/html": [
              "<div>\n",
              "<style scoped>\n",
              "    .dataframe tbody tr th:only-of-type {\n",
              "        vertical-align: middle;\n",
              "    }\n",
              "\n",
              "    .dataframe tbody tr th {\n",
              "        vertical-align: top;\n",
              "    }\n",
              "\n",
              "    .dataframe thead th {\n",
              "        text-align: right;\n",
              "    }\n",
              "</style>\n",
              "<table border=\"1\" class=\"dataframe\">\n",
              "  <thead>\n",
              "    <tr style=\"text-align: right;\">\n",
              "      <th></th>\n",
              "      <th>train_order_dow</th>\n",
              "      <th>train_order_hour_of_day</th>\n",
              "      <th>train_days_since_prior_order</th>\n",
              "      <th>product_id</th>\n",
              "      <th>aisle_id</th>\n",
              "      <th>department_id</th>\n",
              "      <th>prior_order_id_Count</th>\n",
              "    </tr>\n",
              "  </thead>\n",
              "  <tbody>\n",
              "    <tr>\n",
              "      <th>0</th>\n",
              "      <td>4</td>\n",
              "      <td>0</td>\n",
              "      <td>9.0</td>\n",
              "      <td>2067</td>\n",
              "      <td>3</td>\n",
              "      <td>19</td>\n",
              "      <td>1</td>\n",
              "    </tr>\n",
              "    <tr>\n",
              "      <th>1</th>\n",
              "      <td>4</td>\n",
              "      <td>0</td>\n",
              "      <td>9.0</td>\n",
              "      <td>5707</td>\n",
              "      <td>3</td>\n",
              "      <td>19</td>\n",
              "      <td>2</td>\n",
              "    </tr>\n",
              "    <tr>\n",
              "      <th>2</th>\n",
              "      <td>4</td>\n",
              "      <td>0</td>\n",
              "      <td>9.0</td>\n",
              "      <td>11109</td>\n",
              "      <td>108</td>\n",
              "      <td>16</td>\n",
              "      <td>2</td>\n",
              "    </tr>\n",
              "  </tbody>\n",
              "</table>\n",
              "</div>"
            ],
            "text/plain": [
              "   train_order_dow  ...  prior_order_id_Count\n",
              "0                4  ...                     1\n",
              "1                4  ...                     2\n",
              "2                4  ...                     2\n",
              "\n",
              "[3 rows x 7 columns]"
            ]
          },
          "metadata": {
            "tags": []
          },
          "execution_count": 23
        }
      ]
    },
    {
      "cell_type": "markdown",
      "metadata": {
        "id": "cCvLgbyj2IFB"
      },
      "source": [
        "## OneHotEncoding\n",
        "* 先fit好 encoder, 在batch training時將cat data做transform即可，降低記憶體使用"
      ]
    },
    {
      "cell_type": "code",
      "metadata": {
        "id": "0MihoqQm2OMP"
      },
      "source": [
        "dense_cols= ['train_days_since_prior_order', 'prior_order_id_Count']"
      ],
      "execution_count": 24,
      "outputs": []
    },
    {
      "cell_type": "code",
      "metadata": {
        "id": "RJBx-dSz3w4r"
      },
      "source": [
        "train_X_cat= train_X.drop(dense_cols, axis= 1).to_numpy()\n",
        "train_X_dense= train_X[dense_cols].to_numpy()\n",
        "train_y= train_y.to_numpy()"
      ],
      "execution_count": 25,
      "outputs": []
    },
    {
      "cell_type": "code",
      "metadata": {
        "id": "w5LisUdJmdvV"
      },
      "source": [
        "encoder= OneHotEncoder(sparse= False)\n",
        "enc_fitted= encoder.fit(train_X_cat)"
      ],
      "execution_count": 26,
      "outputs": []
    },
    {
      "cell_type": "code",
      "metadata": {
        "id": "VO_og5E8M3jW",
        "colab": {
          "base_uri": "https://localhost:8080/"
        },
        "outputId": "271e79ea-8f0b-424d-ad7e-cd1c5778d2ae"
      },
      "source": [
        "batch= train_X_cat[:32]\n",
        "enc_fitted.transform(batch).shape"
      ],
      "execution_count": 27,
      "outputs": [
        {
          "output_type": "execute_result",
          "data": {
            "text/plain": [
              "(32, 49633)"
            ]
          },
          "metadata": {
            "tags": []
          },
          "execution_count": 27
        }
      ]
    },
    {
      "cell_type": "markdown",
      "metadata": {
        "id": "F7tODsbF6RT-"
      },
      "source": [
        "## Fields"
      ]
    },
    {
      "cell_type": "code",
      "metadata": {
        "id": "-PMr-fwW5VKd"
      },
      "source": [
        "fields = [len(np.unique(train_X_cat[:, i])) for i in range(train_X_cat.shape[1])] + [len(dense_cols)]"
      ],
      "execution_count": 28,
      "outputs": []
    },
    {
      "cell_type": "code",
      "metadata": {
        "colab": {
          "base_uri": "https://localhost:8080/"
        },
        "id": "WeYCTXoU6Inm",
        "outputId": "fc92cda2-7b88-4172-b4d6-ae6481d6a347"
      },
      "source": [
        "fields"
      ],
      "execution_count": 29,
      "outputs": [
        {
          "output_type": "execute_result",
          "data": {
            "text/plain": [
              "[7, 3, 49468, 134, 21, 2]"
            ]
          },
          "metadata": {
            "tags": []
          },
          "execution_count": 29
        }
      ]
    },
    {
      "cell_type": "markdown",
      "metadata": {
        "id": "NZqelqsdCuAa"
      },
      "source": [
        "# Custom Dataset"
      ]
    },
    {
      "cell_type": "code",
      "metadata": {
        "id": "qap9YHPSCwYL"
      },
      "source": [
        "class custom_dataset(Dataset):\n",
        "  def __init__(self, X_cat, X_dense, y):\n",
        "    self.X_cat = torch.tensor(X_cat, dtype= torch.float)\n",
        "    self.X_dense = torch.tensor(X_dense, dtype= torch.float)\n",
        "    self.y = torch.tensor(y, dtype= torch.float)\n",
        "  \n",
        "  def __len__(self):\n",
        "    return len(self.y)\n",
        "  \n",
        "  def __getitem__(self, idx):\n",
        "    return self.X_cat[idx], self.X_dense[idx], self.y[idx]"
      ],
      "execution_count": 40,
      "outputs": []
    },
    {
      "cell_type": "code",
      "metadata": {
        "id": "EBoFq5C7FZsS"
      },
      "source": [
        "train_dataset = custom_dataset(train_X_cat, train_X_dense, train_y)"
      ],
      "execution_count": 41,
      "outputs": []
    },
    {
      "cell_type": "markdown",
      "metadata": {
        "id": "Q_e_fz12FcIf"
      },
      "source": [
        "# Model "
      ]
    },
    {
      "cell_type": "code",
      "metadata": {
        "id": "JLRi_-S9FcPY"
      },
      "source": [
        "class DeepFM(nn.Module):\n",
        "  def __init__(self, fields, k= 5, hidden_dims= [16, 16], dropout= 0.2, n_class= 1):\n",
        "    super(DeepFM, self).__init__()\n",
        "    self.fields = fields \n",
        "    self.k = k \n",
        "    self.hidden_dims = hidden_dims\n",
        "\n",
        "    \"\"\"Linear\"\"\"\n",
        "    d = sum(fields)\n",
        "    self.linear = nn.Linear(d, n_class, bias= False)\n",
        "\n",
        "    \"\"\"FM\"\"\"\n",
        "    # self.FM_w = nn.Linear(1, n_class)\n",
        "    self.embedding_ws = nn.ModuleList()\n",
        "    for i in fields:\n",
        "      self.embedding_ws.append(nn.Linear(i, k, bias= False))\n",
        "    \n",
        "    \"\"\"DNN\"\"\"\n",
        "    layers = []\n",
        "    input_dim = k * len(fields)\n",
        "\n",
        "    for hidden_dim in hidden_dims:\n",
        "      layers.append(nn.Linear(input_dim, hidden_dim))\n",
        "      layers.append(nn.BatchNorm1d(hidden_dim))\n",
        "      layers.append(nn.ReLU())\n",
        "      layers.append(nn.Dropout(p=dropout))\n",
        "      input_dim = hidden_dim\n",
        "    \n",
        "    layers.append(nn.Linear(hidden_dims[-1], n_class))\n",
        "    self.dnn = nn.Sequential(*layers)\n",
        "\n",
        "  def Dense_Embedding(self, X):\n",
        "    es = []\n",
        "    start= 0\n",
        "    for i, field in enumerate(self.fields):\n",
        "      ei = self.embedding_ws[i](X[:, start:start+field]).unsqueeze(dim= 1) # ei: [n, 1, k]\n",
        "      # ei = torch.matmul(X[:, start:start+field], self.embedding_ws[i]).unsqueeze(dim= 1) # ei: [n, 1, k]\n",
        "      start += field\n",
        "      es.append(ei)\n",
        "\n",
        "    return torch.cat(es, dim= 1) # [n, n_fields, k]  \n",
        "\n",
        "  \n",
        "  def FM(self, X):\n",
        "\n",
        "    sum_of_square = torch.sum(X, dim= 1)**2 #[n, k]\n",
        "    square_of_sum = torch.sum(X**2, dim= 1)\n",
        "    ix = sum_of_square - square_of_sum \n",
        "    FM_out = 0.5 * torch.sum(ix, dim= 1, keepdim= True) # [n, 1] \n",
        "    # return self.FM_w(FM_out)\n",
        "    return FM_out\n",
        "\n",
        "  def DNN(self, X):\n",
        "\n",
        "    X = X.view(-1, self.k * len(self.fields)) # [n, k*n_fields]\n",
        "    X = self.dnn(X)\n",
        "    return X\n",
        "  \n",
        "  def forward(self, X):\n",
        "\n",
        "    dense_X = self.Dense_Embedding(X)\n",
        "    FM_y = self.FM(dense_X)\n",
        "    DNN_y = self.DNN(dense_X)\n",
        "    y = self.linear(X) + FM_y + DNN_y\n",
        "\n",
        "    return nn.Sigmoid()(y)\n",
        "    # return nn.ReLU()(y)"
      ],
      "execution_count": 56,
      "outputs": []
    },
    {
      "cell_type": "markdown",
      "metadata": {
        "id": "9EWbHL5t60e_"
      },
      "source": [
        "# Training"
      ]
    },
    {
      "cell_type": "code",
      "metadata": {
        "id": "BZI3eM2c61TI"
      },
      "source": [
        "batch_size= 512\n",
        "lr = 1e-3\n",
        "n_epoch = 50\n",
        "k = 20\n",
        "p = 0.2\n",
        "hidden_dims = [32, 32]\n",
        "n_class = 1"
      ],
      "execution_count": 58,
      "outputs": []
    },
    {
      "cell_type": "code",
      "metadata": {
        "id": "EvS3EOzG65ci"
      },
      "source": [
        "train_loader = DataLoader(train_dataset, batch_size= batch_size, shuffle= True, num_workers=2)"
      ],
      "execution_count": 59,
      "outputs": []
    },
    {
      "cell_type": "code",
      "metadata": {
        "id": "pgGvPoz365ed"
      },
      "source": [
        "test = KFold(n_splits=5, shuffle= True, random_state=42)\n",
        "model = DeepFM(fields= fields, k= k, hidden_dims= hidden_dims, dropout= p, n_class= n_class).to(device)\n",
        "optimizer = torch.optim.Adam(model.parameters(), lr= lr)\n",
        "# criterion = nn.CrossEntropyLoss()\n",
        "criterion = nn.BCELoss()"
      ],
      "execution_count": 60,
      "outputs": []
    },
    {
      "cell_type": "markdown",
      "metadata": {
        "id": "M808Am5V7CoC"
      },
      "source": [
        "## Process"
      ]
    },
    {
      "cell_type": "code",
      "metadata": {
        "colab": {
          "base_uri": "https://localhost:8080/"
        },
        "id": "139lTdHJ65gJ",
        "outputId": "2a882a20-07e3-4dd3-a6df-cac60c0c74ff"
      },
      "source": [
        "for epoch in range(n_epoch):\n",
        "  model.train()\n",
        "  total_loss= list()\n",
        "  # for i, (X_cat, X_dense, y) in enumerate(tqdm(train_loader)):\n",
        "  for i, (X_cat, X_dense, y) in enumerate(train_loader):\n",
        "    X_cat_onehot = torch.tensor(enc_fitted.transform(X_cat), dtype= torch.float)\n",
        "    X= torch.cat([X_cat_onehot, X_dense], dim= 1).to(device)\n",
        "    optimizer.zero_grad()\n",
        "    output= model(X)\n",
        "    loss= criterion(output, y.unsqueeze(dim= 1).to(device))\n",
        "    loss.backward()\n",
        "    optimizer.step()\n",
        "    total_loss.append(loss.item())\n",
        "    if i == 50:\n",
        "      break\n",
        "  print(f'avg loss: {round(np.mean(total_loss), 4)}')"
      ],
      "execution_count": null,
      "outputs": [
        {
          "output_type": "stream",
          "text": [
            "avg loss: 3.9621\n",
            "avg loss: 0.996\n",
            "avg loss: 0.4318\n",
            "avg loss: 0.3671\n",
            "avg loss: 0.3465\n",
            "avg loss: 0.3446\n",
            "avg loss: 0.3374\n",
            "avg loss: 0.3329\n",
            "avg loss: 0.3285\n"
          ],
          "name": "stdout"
        }
      ]
    },
    {
      "cell_type": "code",
      "metadata": {
        "id": "C4U8q4jB65iG"
      },
      "source": [
        ""
      ],
      "execution_count": null,
      "outputs": []
    }
  ]
}